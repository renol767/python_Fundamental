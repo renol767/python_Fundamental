{
 "cells": [
  {
   "cell_type": "code",
   "execution_count": 1,
   "id": "bbd7a673",
   "metadata": {},
   "outputs": [
    {
     "name": "stdout",
     "output_type": "stream",
     "text": [
      "1\n",
      "4.0\n",
      "empat\n"
     ]
    }
   ],
   "source": [
    "contoh_list = [1, 'dua', 3, 4.0, 5]\n",
    "print(contoh_list[0])\n",
    "print(contoh_list[3])\n",
    "contoh_list = [1, 'dua', 3, 4.0, 5]\n",
    "# Ubah index ke 3 dari contoh_list menjadi empat\n",
    "contoh_list[3] = 'empat'\n",
    "print(contoh_list[3])"
   ]
  },
  {
   "cell_type": "code",
   "execution_count": 3,
   "id": "33002585",
   "metadata": {},
   "outputs": [
    {
     "name": "stdout",
     "output_type": "stream",
     "text": [
      "Januari\n"
     ]
    }
   ],
   "source": [
    "contoh_tuple = ('Januari', 'Februari', 'Maret', 'April')\n",
    "print(contoh_tuple[0])\n",
    "contoh_tuple = ('Januari', 'Februari', 'Maret', 'April')\n",
    "# Next Line Error\n",
    "# contoh_tuple[0] = 'Desember' "
   ]
  },
  {
   "cell_type": "code",
   "execution_count": 4,
   "id": "eeed87a2",
   "metadata": {},
   "outputs": [
    {
     "name": "stdout",
     "output_type": "stream",
     "text": [
      "['Dewi', 'Budi', 'Cici', 'Linda', 'Cici']\n",
      "{'Linda', 'Dewi', 'Budi', 'Cici'}\n",
      "{'Linda', 'Dewi', 'Budi', 'Cici'}\n"
     ]
    }
   ],
   "source": [
    "contoh_list = ['Dewi', 'Budi', 'Cici', 'Linda', 'Cici']\n",
    "print(contoh_list)\n",
    "contoh_set = {'Dewi', 'Budi', 'Cici', 'Linda', 'Cici'}\n",
    "print(contoh_set)\n",
    "contoh_frozen_set = ({'Dewi', 'Budi', 'Cici', 'Linda', 'Cici'})\n",
    "print(contoh_frozen_set)"
   ]
  },
  {
   "cell_type": "code",
   "execution_count": 5,
   "id": "d9e76199",
   "metadata": {},
   "outputs": [
    {
     "name": "stdout",
     "output_type": "stream",
     "text": [
      "John Doe\n",
      "Programmer\n"
     ]
    }
   ],
   "source": [
    "person = {'nama': 'John Doe', 'pekerjaan': 'Programmer'}\n",
    "print(person['nama'])\n",
    "print(person['pekerjaan'])"
   ]
  },
  {
   "cell_type": "code",
   "execution_count": 7,
   "id": "3941c64b",
   "metadata": {},
   "outputs": [],
   "source": [
    "sepatu = {\"nama\": \"Sepatu Niko\", \"harga\": 150000, \"diskon\": 30000 }\n",
    "baju = {\"nama\": \"Baju Unikloh\", \"harga\": 80000, \"diskon\": 8000}\n",
    "celana = {\"nama\": \"Celana Lepis\", \"harga\": 200000, \"diskon\": 60000}"
   ]
  },
  {
   "cell_type": "code",
   "execution_count": 8,
   "id": "3d335d6e",
   "metadata": {},
   "outputs": [],
   "source": [
    "sepatu = {\"nama\": \"Sepatu Niko\", \"harga\": 150000, \"diskon\": 30000} \n",
    "baju = {\"nama\": \"Baju Unikloh\", \"harga\": 80000, \"diskon\": 8000} \n",
    "celana = {\"nama\": \"Celana Lepis\", \"harga\": 200000, \"diskon\": 60000} \n",
    "daftar_belanja = [sepatu, baju, celana]"
   ]
  },
  {
   "cell_type": "code",
   "execution_count": 9,
   "id": "f2b2438f",
   "metadata": {},
   "outputs": [
    {
     "name": "stdout",
     "output_type": "stream",
     "text": [
      "365200.0\n"
     ]
    }
   ],
   "source": [
    "# Data yang dinyatakan ke dalam dictionary\n",
    "sepatu = {\"nama\": \"Sepatu Niko\", \"harga\": 150000, \"diskon\": 30000} \n",
    "baju = {\"nama\": \"Baju Unikloh\", \"harga\": 80000, \"diskon\": 8000} \n",
    "celana = {\"nama\": \"Celana Lepis\", \"harga\": 200000, \"diskon\": 60000}\n",
    "# Hitunglah harga masing-masing data setelah dikurangi diskon\n",
    "harga_sepatu = sepatu[\"harga\"] - sepatu[\"diskon\"] \n",
    "harga_baju = baju[\"harga\"] - baju[\"diskon\"]\n",
    "harga_celana = celana[\"harga\"] - celana[\"diskon\"]\n",
    "# Hitung harga total\n",
    "total_harga = harga_sepatu + harga_baju + harga_celana\n",
    "# Hitung harga kena pajak\n",
    "total_pajak = total_harga * 0.1\n",
    "# Cetak total_harga + total_pajak\n",
    "print(total_harga + total_pajak)"
   ]
  },
  {
   "cell_type": "code",
   "execution_count": null,
   "id": "3e800d0f",
   "metadata": {},
   "outputs": [],
   "source": []
  }
 ],
 "metadata": {
  "kernelspec": {
   "display_name": "Python 3",
   "language": "python",
   "name": "python3"
  },
  "language_info": {
   "codemirror_mode": {
    "name": "ipython",
    "version": 3
   },
   "file_extension": ".py",
   "mimetype": "text/x-python",
   "name": "python",
   "nbconvert_exporter": "python",
   "pygments_lexer": "ipython3",
   "version": "3.9.1"
  }
 },
 "nbformat": 4,
 "nbformat_minor": 5
}
